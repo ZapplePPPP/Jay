{
 "cells": [
  {
   "cell_type": "code",
   "execution_count": 1,
   "metadata": {
    "scrolled": true
   },
   "outputs": [
    {
     "data": {
      "application/javascript": [
       "\n",
       "try {\n",
       "require(['notebook/js/codecell'], function(codecell) {\n",
       "  codecell.CodeCell.options_default.highlight_modes[\n",
       "      'magic_text/x-csrc'] = {'reg':[/^%%microblaze/]};\n",
       "  Jupyter.notebook.events.one('kernel_ready.Kernel', function(){\n",
       "      Jupyter.notebook.get_cells().map(function(cell){\n",
       "          if (cell.cell_type == 'code'){ cell.auto_highlight(); } }) ;\n",
       "  });\n",
       "});\n",
       "} catch (e) {};\n"
      ]
     },
     "metadata": {},
     "output_type": "display_data"
    },
    {
     "data": {
      "application/javascript": [
       "\n",
       "try {\n",
       "require(['notebook/js/codecell'], function(codecell) {\n",
       "  codecell.CodeCell.options_default.highlight_modes[\n",
       "      'magic_text/x-csrc'] = {'reg':[/^%%pybind11/]};\n",
       "  Jupyter.notebook.events.one('kernel_ready.Kernel', function(){\n",
       "      Jupyter.notebook.get_cells().map(function(cell){\n",
       "          if (cell.cell_type == 'code'){ cell.auto_highlight(); } }) ;\n",
       "  });\n",
       "});\n",
       "} catch (e) {};\n"
      ]
     },
     "metadata": {},
     "output_type": "display_data"
    }
   ],
   "source": [
    "import pynq.lib.dma\n",
    "import numpy as np\n",
    "from pynq import Overlay\n",
    "\n",
    "mmol = pynq.Overlay(\"./mul.bit\")\n",
    "\n",
    "mmol.hierarchy_dict\n",
    "\n",
    "\n",
    "dma0 = mmol.axi_dma_0\n",
    "dma1 = mmol.axi_dma_1\n",
    "\n",
    "\n",
    "#hls_ip=mmol.matrixmul_0\n",
    "\n",
    "\n",
    "from pynq import allocate\n",
    "\n",
    "#矩阵缓冲区分配\n",
    "a = allocate(shape=(32,32), dtype=np.int32)\n",
    "b = allocate(shape=(32,32), dtype=np.int32)\n",
    "res = allocate(shape=(32,32), dtype=np.int32)\n",
    "\n",
    "a.device_address\n",
    "b.device_address\n",
    "res.device_address\n",
    "\n",
    "for i in range(32):\n",
    "    for j in range(32):\n",
    "        a[i][j] = 6;\n",
    "        b[i][j] = 8;\n",
    "#刷新缓冲区以确保更新的数据对可编程数据可见 \n",
    "a.flush()\n",
    "b.flush()\n",
    "res.flush()\n",
    "#数据导入乘法器              \n",
    "#dma0.sendchannel.transfer(a)\n",
    "#dma1.sendchannel.transfer(b)\n",
    "#dma0.recvchannel.transfer(res)\n",
    "#hls_ip.write(0x00,0x01)\n",
    "\n",
    "#print(a)\n",
    "#print(b)\n",
    "#print(res)"
   ]
  },
  {
   "cell_type": "code",
   "execution_count": 2,
   "metadata": {},
   "outputs": [
    {
     "name": "stdout",
     "output_type": "stream",
     "text": [
      "[[6 6 6 ... 6 6 6]\n",
      " [6 6 6 ... 6 6 6]\n",
      " [6 6 6 ... 6 6 6]\n",
      " ...\n",
      " [6 6 6 ... 6 6 6]\n",
      " [6 6 6 ... 6 6 6]\n",
      " [6 6 6 ... 6 6 6]]\n",
      "[[8 8 8 ... 8 8 8]\n",
      " [8 8 8 ... 8 8 8]\n",
      " [8 8 8 ... 8 8 8]\n",
      " ...\n",
      " [8 8 8 ... 8 8 8]\n",
      " [8 8 8 ... 8 8 8]\n",
      " [8 8 8 ... 8 8 8]]\n"
     ]
    }
   ],
   "source": [
    "dma0.sendchannel.transfer(a)\n",
    "dma1.sendchannel.transfer(b)\n",
    "print(a)\n",
    "print(b)"
   ]
  },
  {
   "cell_type": "code",
   "execution_count": 3,
   "metadata": {},
   "outputs": [
    {
     "name": "stdout",
     "output_type": "stream",
     "text": [
      "[[1536 1536 1536 ... 1536 1536 1536]\n",
      " [1536 1536 1536 ... 1536 1536 1536]\n",
      " [1536 1536 1536 ... 1536 1536 1536]\n",
      " ...\n",
      " [1536 1536 1536 ... 1536 1536 1536]\n",
      " [1536 1536 1536 ... 1536 1536 1536]\n",
      " [1536 1536 1536 ... 1536 1536 1536]]\n"
     ]
    }
   ],
   "source": [
    "dma0.recvchannel.transfer(res)\n",
    "\n",
    "print(res)"
   ]
  },
  {
   "cell_type": "code",
   "execution_count": null,
   "metadata": {},
   "outputs": [],
   "source": []
  }
 ],
 "metadata": {
  "kernelspec": {
   "display_name": "Python 3",
   "language": "python",
   "name": "python3"
  },
  "language_info": {
   "codemirror_mode": {
    "name": "ipython",
    "version": 3
   },
   "file_extension": ".py",
   "mimetype": "text/x-python",
   "name": "python",
   "nbconvert_exporter": "python",
   "pygments_lexer": "ipython3",
   "version": "3.8.2"
  }
 },
 "nbformat": 4,
 "nbformat_minor": 2
}
